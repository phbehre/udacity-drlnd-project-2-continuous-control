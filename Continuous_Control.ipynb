{
 "cells": [
  {
   "cell_type": "markdown",
   "metadata": {},
   "source": [
    "# Continuous Control - Udacity DRLND Project II\n",
    "\n",
    "---\n",
    "\n",
    "You are welcome to use this coding environment to train your agent for the project.  Follow the instructions below to get started!\n",
    "\n",
    "### 1. Start the Environment\n",
    "\n",
    "Run the next code cell to install a few packages.  This line will take a few minutes to run!"
   ]
  },
  {
   "cell_type": "code",
   "execution_count": 1,
   "metadata": {},
   "outputs": [],
   "source": [
    "!pip -q install ./python"
   ]
  },
  {
   "cell_type": "markdown",
   "metadata": {},
   "source": [
    "Please follow the instructions to obtain the prebuild simulator for your environment as marked in the \"Getting started\" section of README.md file in the repository.\n",
    "\n",
    "The environments corresponding to both versions of the environment are already saved in the Workspace and can be accessed at the file paths provided below.  \n",
    "\n",
    "Please select one of the two options below for loading the environment. __These options require the Udacity Workspace for the project. Please follow the instruction provided in the README.md file to setup your own environment\n",
    "\n",
    "Align path with environement specific settings."
   ]
  },
  {
   "cell_type": "code",
   "execution_count": 2,
   "metadata": {},
   "outputs": [
    {
     "name": "stderr",
     "output_type": "stream",
     "text": [
      "INFO:unityagents:\n",
      "'Academy' started successfully!\n",
      "Unity Academy name: Academy\n",
      "        Number of Brains: 1\n",
      "        Number of External Brains : 1\n",
      "        Lesson number : 0\n",
      "        Reset Parameters :\n",
      "\t\tgoal_speed -> 1.0\n",
      "\t\tgoal_size -> 5.0\n",
      "Unity brain name: ReacherBrain\n",
      "        Number of Visual Observations (per agent): 0\n",
      "        Vector Observation space type: continuous\n",
      "        Vector Observation space size (per agent): 33\n",
      "        Number of stacked Vector Observation: 1\n",
      "        Vector Action space type: continuous\n",
      "        Vector Action space size (per agent): 4\n",
      "        Vector Action descriptions: , , , \n"
     ]
    }
   ],
   "source": [
    "from unityagents import UnityEnvironment\n",
    "import numpy as np\n",
    "\n",
    "# select this option to load version 1 (with a single agent) of the environment\n",
    "#env = UnityEnvironment(file_name='/data/Reacher_One_Linux_NoVis/Reacher_One_Linux_NoVis.x86_64')\n",
    "\n",
    "# select this option to load version 2 (with 20 agents) of the environment\n",
    "env = UnityEnvironment(file_name='/data/Reacher_Linux_NoVis/Reacher.x86_64')"
   ]
  },
  {
   "cell_type": "markdown",
   "metadata": {},
   "source": [
    "Environments contain **_brains_** which are responsible for deciding the actions of their associated agents. Here we check for the first brain available, and set it as the default brain we will be controlling from Python."
   ]
  },
  {
   "cell_type": "code",
   "execution_count": 3,
   "metadata": {},
   "outputs": [],
   "source": [
    "# get the default brain\n",
    "brain_name = env.brain_names[0]\n",
    "brain = env.brains[brain_name]"
   ]
  },
  {
   "cell_type": "markdown",
   "metadata": {},
   "source": [
    "### 2. Examine the State and Action Spaces\n",
    "\n",
    "Run the code cell below to print some information about the environment."
   ]
  },
  {
   "cell_type": "code",
   "execution_count": 4,
   "metadata": {},
   "outputs": [
    {
     "name": "stdout",
     "output_type": "stream",
     "text": [
      "Number of agents: 20\n",
      "Size of each action: 4\n",
      "There are 20 agents. Each observes a state with length: 33\n",
      "The state for the first agent looks like: [  0.00000000e+00  -4.00000000e+00   0.00000000e+00   1.00000000e+00\n",
      "  -0.00000000e+00  -0.00000000e+00  -4.37113883e-08   0.00000000e+00\n",
      "   0.00000000e+00   0.00000000e+00   0.00000000e+00   0.00000000e+00\n",
      "   0.00000000e+00   0.00000000e+00  -1.00000000e+01   0.00000000e+00\n",
      "   1.00000000e+00  -0.00000000e+00  -0.00000000e+00  -4.37113883e-08\n",
      "   0.00000000e+00   0.00000000e+00   0.00000000e+00   0.00000000e+00\n",
      "   0.00000000e+00   0.00000000e+00   5.75471878e+00  -1.00000000e+00\n",
      "   5.55726624e+00   0.00000000e+00   1.00000000e+00   0.00000000e+00\n",
      "  -1.68164849e-01]\n"
     ]
    }
   ],
   "source": [
    "# reset the environment\n",
    "env_info = env.reset(train_mode=True)[brain_name]\n",
    "\n",
    "# number of agents\n",
    "num_agents = len(env_info.agents)\n",
    "print('Number of agents:', num_agents)\n",
    "\n",
    "# size of each action\n",
    "action_size = brain.vector_action_space_size\n",
    "print('Size of each action:', action_size)\n",
    "\n",
    "# examine the state space \n",
    "states = env_info.vector_observations\n",
    "state_size = states.shape[1]\n",
    "print('There are {} agents. Each observes a state with length: {}'.format(states.shape[0], state_size))\n",
    "print('The state for the first agent looks like:', states[0])"
   ]
  },
  {
   "cell_type": "markdown",
   "metadata": {},
   "source": [
    "### 3. Take Random Actions in the Environment\n",
    "\n",
    "In the next code cell, you will learn how to use the Python API to control the agent and receive feedback from the environment.\n",
    "\n",
    "Note that **in this coding environment, you will not be able to watch the agents while they are training**, and you should set `train_mode=True` to restart the environment."
   ]
  },
  {
   "cell_type": "code",
   "execution_count": 5,
   "metadata": {},
   "outputs": [
    {
     "name": "stdout",
     "output_type": "stream",
     "text": [
      "Total score (averaged over agents) this episode: 0.14199999682605266\n"
     ]
    }
   ],
   "source": [
    "env_info = env.reset(train_mode=True)[brain_name]      # reset the environment    \n",
    "states = env_info.vector_observations                  # get the current state (for each agent)\n",
    "scores = np.zeros(num_agents)                          # initialize the score (for each agent)\n",
    "while True:\n",
    "    actions = np.random.randn(num_agents, action_size) # select an action (for each agent)\n",
    "    actions = np.clip(actions, -1, 1)                  # all actions between -1 and 1\n",
    "    env_info = env.step(actions)[brain_name]           # send all actions to tne environment\n",
    "    next_states = env_info.vector_observations         # get next state (for each agent)\n",
    "    rewards = env_info.rewards                         # get reward (for each agent)\n",
    "    dones = env_info.local_done                        # see if episode finished\n",
    "    scores += env_info.rewards                         # update the score (for each agent)\n",
    "    states = next_states                               # roll over states to next time step\n",
    "    if np.any(dones):                                  # exit loop if episode finished\n",
    "        break\n",
    "print('Total score (averaged over agents) this episode: {}'.format(np.mean(scores)))"
   ]
  },
  {
   "cell_type": "markdown",
   "metadata": {},
   "source": [
    "__Optional:__ When finished, you can close the environment.\n",
    "\n",
    "_Skip this step, in order to run the training_"
   ]
  },
  {
   "cell_type": "code",
   "execution_count": 6,
   "metadata": {},
   "outputs": [],
   "source": [
    "env.close()"
   ]
  },
  {
   "cell_type": "markdown",
   "metadata": {},
   "source": [
    "### 4. It's Your Turn!\n",
    "\n",
    "Now it's your turn to train your own agent to solve the environment!  A few **important notes**:\n",
    "- When training the environment, set `train_mode=True`, so that the line for resetting the environment looks like the following:\n",
    "```python\n",
    "env_info = env.reset(train_mode=True)[brain_name]\n",
    "```\n",
    "- To structure your work, you're welcome to work directly in this Jupyter notebook, or you might like to start over with a new file!  You can see the list of files in the workspace by clicking on **_Jupyter_** in the top left corner of the notebook.\n",
    "- In this coding environment, you will not be able to watch the agents while they are training.  However, **_after training the agents_**, you can download the saved model weights to watch the agents on your own machine! "
   ]
  },
  {
   "cell_type": "markdown",
   "metadata": {},
   "source": [
    "### 4.1 Import dependecies"
   ]
  },
  {
   "cell_type": "code",
   "execution_count": 5,
   "metadata": {},
   "outputs": [],
   "source": [
    "import torch\n",
    "from collections import deque\n",
    "import matplotlib.pyplot as plt\n",
    "%matplotlib inline"
   ]
  },
  {
   "cell_type": "markdown",
   "metadata": {},
   "source": [
    "### 4.2 Create agent instance for training"
   ]
  },
  {
   "cell_type": "code",
   "execution_count": 6,
   "metadata": {},
   "outputs": [],
   "source": [
    "from ddpg_agent import Agent\n",
    "\n",
    "# create agent\n",
    "agent = Agent(num_agents=num_agents,\n",
    "              state_size=state_size,\n",
    "              action_size=action_size,\n",
    "              random_seed=0)"
   ]
  },
  {
   "cell_type": "markdown",
   "metadata": {},
   "source": [
    "### 4.3 Defining the training function"
   ]
  },
  {
   "cell_type": "code",
   "execution_count": 7,
   "metadata": {},
   "outputs": [],
   "source": [
    "def ddpg_train(agent, n_episodes=2000, max_t=1000):\n",
    "\n",
    "    scores_agents = []\n",
    "    scores_interval = deque(maxlen=100)\n",
    "    \n",
    "    for i_episode in range(1, n_episodes+1):\n",
    "        env_info = env.reset(train_mode=True)[brain_name]              # reset the environment  \n",
    "        states = env_info.vector_observations                          # get the current state (for each agent)\n",
    "        agent.reset()                                                  # reset the agent\n",
    "        scores = np.zeros(num_agents)\n",
    "        \n",
    "        for t in range(max_t):            \n",
    "            actions = agent.act(states)                               # define agents actions\n",
    "            env_info = env.step(actions)[brain_name]                   # send all actions to tne environment\n",
    "            next_states = env_info.vector_observations                 # get next state (for each agent)\n",
    "            rewards = env_info.rewards                                 # get reward (for each agent)\n",
    "            dones = env_info.local_done                                # see if episode finished\n",
    "            agent.step(states, actions, rewards, next_states, dones)\n",
    "            \n",
    "            scores += rewards                                          # update the score (for each agent)\n",
    "            states = next_states                                       # roll over states to next time step\n",
    "            print(f'\\rEpisode {i_episode}\\tTimestep {t}'\n",
    "                  f'\\tScore: {np.mean(scores):.2f}', end=\"\")\n",
    "            if np.any(dones):\n",
    "                break\n",
    "        \n",
    "        # calculate the mean score over the last hundred episodes\n",
    "        score = np.mean(scores)\n",
    "        scores_agents.append(score)\n",
    "        scores_interval.append(score)\n",
    "        mean_score = np.mean(scores_interval)\n",
    "\n",
    "        # print the result for each episode and         \n",
    "        print(f'\\rEpisode {i_episode}'\n",
    "              f'\\tMean score (last 100 episodes): {mean_score:.2f}')\n",
    "            \n",
    "        if mean_score >= 30.0:\n",
    "            print(f'\\nEnvironment solved in {i_episode:d} episodes!'\n",
    "                  f'\\tMean score (last 100 episodes): {mean_score:.2f}')\n",
    "            \n",
    "            # store the model weights for actor_local and critic_local to file\n",
    "            torch.save(agent.actor_local.state_dict(), 'checkpoint_actor.pth')\n",
    "            torch.save(agent.critic_local.state_dict(), 'checkpoint_critic.pth')\n",
    "            break\n",
    "            \n",
    "    return scores_agents"
   ]
  },
  {
   "cell_type": "markdown",
   "metadata": {},
   "source": [
    "### 4.4 Train the agent"
   ]
  },
  {
   "cell_type": "code",
   "execution_count": 8,
   "metadata": {},
   "outputs": [
    {
     "name": "stdout",
     "output_type": "stream",
     "text": [
      "Episode 1\tMean score (last 100 episodes): 0.24\n",
      "Episode 2\tMean score (last 100 episodes): 0.21\n",
      "Episode 3\tMean score (last 100 episodes): 0.42\n",
      "Episode 4\tMean score (last 100 episodes): 0.57\n",
      "Episode 5\tMean score (last 100 episodes): 0.68\n",
      "Episode 6\tMean score (last 100 episodes): 0.75\n",
      "Episode 7\tMean score (last 100 episodes): 0.79\n",
      "Episode 8\tMean score (last 100 episodes): 0.82\n",
      "Episode 9\tMean score (last 100 episodes): 0.89\n",
      "Episode 10\tMean score (last 100 episodes): 0.94\n",
      "Episode 11\tMean score (last 100 episodes): 0.99\n",
      "Episode 12\tMean score (last 100 episodes): 1.03\n",
      "Episode 13\tMean score (last 100 episodes): 1.08\n",
      "Episode 14\tMean score (last 100 episodes): 1.12\n",
      "Episode 15\tMean score (last 100 episodes): 1.14\n",
      "Episode 16\tMean score (last 100 episodes): 1.17\n",
      "Episode 17\tMean score (last 100 episodes): 1.24\n",
      "Episode 18\tMean score (last 100 episodes): 1.28\n",
      "Episode 19\tMean score (last 100 episodes): 1.36\n",
      "Episode 20\tMean score (last 100 episodes): 1.42\n",
      "Episode 21\tMean score (last 100 episodes): 1.50\n",
      "Episode 22\tMean score (last 100 episodes): 1.57\n",
      "Episode 23\tMean score (last 100 episodes): 1.64\n",
      "Episode 24\tMean score (last 100 episodes): 1.71\n",
      "Episode 25\tMean score (last 100 episodes): 1.77\n",
      "Episode 26\tMean score (last 100 episodes): 1.84\n",
      "Episode 27\tMean score (last 100 episodes): 1.94\n",
      "Episode 28\tMean score (last 100 episodes): 2.01\n",
      "Episode 29\tMean score (last 100 episodes): 2.13\n",
      "Episode 30\tMean score (last 100 episodes): 2.20\n",
      "Episode 31\tMean score (last 100 episodes): 2.29\n",
      "Episode 32\tMean score (last 100 episodes): 2.38\n",
      "Episode 33\tMean score (last 100 episodes): 2.48\n",
      "Episode 34\tMean score (last 100 episodes): 2.56\n",
      "Episode 35\tMean score (last 100 episodes): 2.62\n",
      "Episode 36\tMean score (last 100 episodes): 2.69\n",
      "Episode 37\tMean score (last 100 episodes): 2.79\n",
      "Episode 38\tMean score (last 100 episodes): 2.88\n",
      "Episode 39\tMean score (last 100 episodes): 2.99\n",
      "Episode 40\tMean score (last 100 episodes): 3.10\n",
      "Episode 41\tMean score (last 100 episodes): 3.23\n",
      "Episode 42\tMean score (last 100 episodes): 3.39\n",
      "Episode 43\tMean score (last 100 episodes): 3.55\n",
      "Episode 44\tMean score (last 100 episodes): 3.71\n",
      "Episode 45\tMean score (last 100 episodes): 3.87\n",
      "Episode 46\tMean score (last 100 episodes): 4.02\n",
      "Episode 47\tMean score (last 100 episodes): 4.21\n",
      "Episode 48\tMean score (last 100 episodes): 4.37\n",
      "Episode 49\tMean score (last 100 episodes): 4.53\n",
      "Episode 50\tMean score (last 100 episodes): 4.69\n",
      "Episode 51\tMean score (last 100 episodes): 4.86\n",
      "Episode 52\tMean score (last 100 episodes): 5.00\n",
      "Episode 53\tMean score (last 100 episodes): 5.17\n",
      "Episode 54\tMean score (last 100 episodes): 5.35\n",
      "Episode 55\tMean score (last 100 episodes): 5.54\n",
      "Episode 56\tMean score (last 100 episodes): 5.70\n",
      "Episode 57\tMean score (last 100 episodes): 5.80\n",
      "Episode 58\tMean score (last 100 episodes): 5.94\n",
      "Episode 59\tMean score (last 100 episodes): 6.14\n",
      "Episode 60\tMean score (last 100 episodes): 6.33\n",
      "Episode 61\tMean score (last 100 episodes): 6.49\n",
      "Episode 62\tMean score (last 100 episodes): 6.68\n",
      "Episode 63\tMean score (last 100 episodes): 6.86\n",
      "Episode 64\tMean score (last 100 episodes): 7.04\n",
      "Episode 65\tMean score (last 100 episodes): 7.20\n",
      "Episode 66\tMean score (last 100 episodes): 7.35\n",
      "Episode 67\tMean score (last 100 episodes): 7.55\n",
      "Episode 68\tMean score (last 100 episodes): 7.72\n",
      "Episode 69\tMean score (last 100 episodes): 7.91\n",
      "Episode 70\tMean score (last 100 episodes): 8.10\n",
      "Episode 71\tMean score (last 100 episodes): 8.31\n",
      "Episode 72\tMean score (last 100 episodes): 8.50\n",
      "Episode 73\tMean score (last 100 episodes): 8.59\n",
      "Episode 74\tMean score (last 100 episodes): 8.67\n",
      "Episode 75\tMean score (last 100 episodes): 8.78\n",
      "Episode 76\tMean score (last 100 episodes): 8.92\n",
      "Episode 77\tMean score (last 100 episodes): 9.12\n",
      "Episode 78\tMean score (last 100 episodes): 9.30\n",
      "Episode 79\tMean score (last 100 episodes): 9.45\n",
      "Episode 80\tMean score (last 100 episodes): 9.46\n",
      "Episode 81\tMean score (last 100 episodes): 9.36\n",
      "Episode 82\tMean score (last 100 episodes): 9.30\n",
      "Episode 83\tMean score (last 100 episodes): 9.30\n",
      "Episode 84\tMean score (last 100 episodes): 9.31\n",
      "Episode 85\tMean score (last 100 episodes): 9.42\n",
      "Episode 86\tMean score (last 100 episodes): 9.52\n",
      "Episode 87\tMean score (last 100 episodes): 9.64\n",
      "Episode 88\tMean score (last 100 episodes): 9.77\n",
      "Episode 89\tMean score (last 100 episodes): 9.92\n",
      "Episode 90\tMean score (last 100 episodes): 10.04\n",
      "Episode 91\tMean score (last 100 episodes): 10.17\n",
      "Episode 92\tMean score (last 100 episodes): 10.30\n",
      "Episode 93\tMean score (last 100 episodes): 10.43\n",
      "Episode 94\tMean score (last 100 episodes): 10.58\n",
      "Episode 95\tMean score (last 100 episodes): 10.73\n",
      "Episode 96\tMean score (last 100 episodes): 10.86\n",
      "Episode 97\tMean score (last 100 episodes): 10.98\n",
      "Episode 98\tMean score (last 100 episodes): 11.12\n",
      "Episode 99\tMean score (last 100 episodes): 11.26\n",
      "Episode 100\tMean score (last 100 episodes): 11.42\n",
      "Episode 101\tMean score (last 100 episodes): 11.67\n",
      "Episode 102\tMean score (last 100 episodes): 11.91\n",
      "Episode 103\tMean score (last 100 episodes): 12.13\n",
      "Episode 104\tMean score (last 100 episodes): 12.36\n",
      "Episode 105\tMean score (last 100 episodes): 12.60\n",
      "Episode 106\tMean score (last 100 episodes): 12.84\n",
      "Episode 107\tMean score (last 100 episodes): 13.11\n",
      "Episode 108\tMean score (last 100 episodes): 13.38\n",
      "Episode 109\tMean score (last 100 episodes): 13.64\n",
      "Episode 110\tMean score (last 100 episodes): 13.90\n",
      "Episode 111\tMean score (last 100 episodes): 14.20\n",
      "Episode 112\tMean score (last 100 episodes): 14.48\n",
      "Episode 113\tMean score (last 100 episodes): 14.76\n",
      "Episode 114\tMean score (last 100 episodes): 15.05\n",
      "Episode 115\tMean score (last 100 episodes): 15.23\n",
      "Episode 116\tMean score (last 100 episodes): 15.31\n",
      "Episode 117\tMean score (last 100 episodes): 15.42\n",
      "Episode 118\tMean score (last 100 episodes): 15.57\n",
      "Episode 119\tMean score (last 100 episodes): 15.77\n",
      "Episode 120\tMean score (last 100 episodes): 15.95\n",
      "Episode 121\tMean score (last 100 episodes): 16.15\n",
      "Episode 122\tMean score (last 100 episodes): 16.40\n",
      "Episode 123\tMean score (last 100 episodes): 16.67\n",
      "Episode 124\tMean score (last 100 episodes): 16.92\n",
      "Episode 125\tMean score (last 100 episodes): 17.23\n",
      "Episode 126\tMean score (last 100 episodes): 17.55\n",
      "Episode 127\tMean score (last 100 episodes): 17.86\n",
      "Episode 128\tMean score (last 100 episodes): 18.20\n",
      "Episode 129\tMean score (last 100 episodes): 18.51\n",
      "Episode 130\tMean score (last 100 episodes): 18.83\n",
      "Episode 131\tMean score (last 100 episodes): 19.15\n",
      "Episode 132\tMean score (last 100 episodes): 19.44\n",
      "Episode 133\tMean score (last 100 episodes): 19.76\n",
      "Episode 134\tMean score (last 100 episodes): 20.06\n",
      "Episode 135\tMean score (last 100 episodes): 20.38\n",
      "Episode 136\tMean score (last 100 episodes): 20.67\n",
      "Episode 137\tMean score (last 100 episodes): 20.98\n",
      "Episode 138\tMean score (last 100 episodes): 21.28\n",
      "Episode 139\tMean score (last 100 episodes): 21.58\n",
      "Episode 140\tMean score (last 100 episodes): 21.88\n",
      "Episode 141\tMean score (last 100 episodes): 22.16\n",
      "Episode 142\tMean score (last 100 episodes): 22.40\n",
      "Episode 143\tMean score (last 100 episodes): 22.64\n",
      "Episode 144\tMean score (last 100 episodes): 22.87\n",
      "Episode 145\tMean score (last 100 episodes): 23.10\n",
      "Episode 146\tMean score (last 100 episodes): 23.36\n",
      "Episode 147\tMean score (last 100 episodes): 23.60\n",
      "Episode 148\tMean score (last 100 episodes): 23.85\n",
      "Episode 149\tMean score (last 100 episodes): 24.08\n",
      "Episode 150\tMean score (last 100 episodes): 24.05\n",
      "Episode 151\tMean score (last 100 episodes): 23.98\n",
      "Episode 152\tMean score (last 100 episodes): 23.97\n",
      "Episode 153\tMean score (last 100 episodes): 23.90\n",
      "Episode 154\tMean score (last 100 episodes): 23.82\n",
      "Episode 155\tMean score (last 100 episodes): 23.72\n",
      "Episode 156\tMean score (last 100 episodes): 23.65\n",
      "Episode 157\tMean score (last 100 episodes): 23.62\n",
      "Episode 158\tMean score (last 100 episodes): 23.60\n",
      "Episode 159\tMean score (last 100 episodes): 23.61\n",
      "Episode 160\tMean score (last 100 episodes): 23.60\n",
      "Episode 161\tMean score (last 100 episodes): 23.65\n",
      "Episode 162\tMean score (last 100 episodes): 23.66\n",
      "Episode 163\tMean score (last 100 episodes): 23.68\n",
      "Episode 164\tMean score (last 100 episodes): 23.76\n",
      "Episode 165\tMean score (last 100 episodes): 23.89\n",
      "Episode 166\tMean score (last 100 episodes): 23.98\n",
      "Episode 167\tMean score (last 100 episodes): 24.10\n",
      "Episode 168\tMean score (last 100 episodes): 24.24\n"
     ]
    },
    {
     "name": "stdout",
     "output_type": "stream",
     "text": [
      "Episode 169\tMean score (last 100 episodes): 24.40\n",
      "Episode 170\tMean score (last 100 episodes): 24.56\n",
      "Episode 171\tMean score (last 100 episodes): 24.69\n",
      "Episode 172\tMean score (last 100 episodes): 24.85\n",
      "Episode 173\tMean score (last 100 episodes): 25.04\n",
      "Episode 174\tMean score (last 100 episodes): 25.27\n",
      "Episode 175\tMean score (last 100 episodes): 25.48\n",
      "Episode 176\tMean score (last 100 episodes): 25.66\n",
      "Episode 177\tMean score (last 100 episodes): 25.74\n",
      "Episode 178\tMean score (last 100 episodes): 25.81\n",
      "Episode 179\tMean score (last 100 episodes): 25.93\n",
      "Episode 180\tMean score (last 100 episodes): 26.20\n",
      "Episode 181\tMean score (last 100 episodes): 26.53\n",
      "Episode 182\tMean score (last 100 episodes): 26.84\n",
      "Episode 183\tMean score (last 100 episodes): 27.09\n",
      "Episode 184\tMean score (last 100 episodes): 27.37\n",
      "Episode 185\tMean score (last 100 episodes): 27.55\n",
      "Episode 186\tMean score (last 100 episodes): 27.73\n",
      "Episode 187\tMean score (last 100 episodes): 27.90\n",
      "Episode 188\tMean score (last 100 episodes): 28.05\n",
      "Episode 189\tMean score (last 100 episodes): 28.16\n",
      "Episode 190\tMean score (last 100 episodes): 28.31\n",
      "Episode 191\tMean score (last 100 episodes): 28.40\n",
      "Episode 192\tMean score (last 100 episodes): 28.47\n",
      "Episode 193\tMean score (last 100 episodes): 28.59\n",
      "Episode 194\tMean score (last 100 episodes): 28.67\n",
      "Episode 195\tMean score (last 100 episodes): 28.76\n",
      "Episode 196\tMean score (last 100 episodes): 28.89\n",
      "Episode 197\tMean score (last 100 episodes): 29.03\n",
      "Episode 198\tMean score (last 100 episodes): 29.14\n",
      "Episode 199\tMean score (last 100 episodes): 29.25\n",
      "Episode 200\tMean score (last 100 episodes): 29.31\n",
      "Episode 201\tMean score (last 100 episodes): 29.39\n",
      "Episode 202\tMean score (last 100 episodes): 29.49\n",
      "Episode 203\tMean score (last 100 episodes): 29.62\n",
      "Episode 204\tMean score (last 100 episodes): 29.72\n",
      "Episode 205\tMean score (last 100 episodes): 29.82\n",
      "Episode 206\tMean score (last 100 episodes): 29.91\n",
      "Episode 207\tMean score (last 100 episodes): 30.00\n",
      "Episode 208\tMean score (last 100 episodes): 30.07\n",
      "\n",
      "Environment solved in 208 episodes!\tMean score (last 100 episodes): 30.07\n"
     ]
    }
   ],
   "source": [
    "scores = ddpg_train(agent)"
   ]
  },
  {
   "cell_type": "markdown",
   "metadata": {},
   "source": [
    "### 4.5 Plot the results"
   ]
  },
  {
   "cell_type": "code",
   "execution_count": 9,
   "metadata": {},
   "outputs": [
    {
     "data": {
      "image/png": "[encoded data removed]",
      "text/plain": [
       "<matplotlib.figure.Figure at 0x7febc35552b0>"
      ]
     },
     "metadata": {
      "needs_background": "light"
     },
     "output_type": "display_data"
    }
   ],
   "source": [
    "fig = plt.figure()\n",
    "ax = fig.add_subplot(111)\n",
    "plt.plot(np.arange(1, len(scores)+1), scores)\n",
    "plt.ylabel('Score')\n",
    "plt.xlabel('Episode #')\n",
    "plt.show()"
   ]
  },
  {
   "cell_type": "code",
   "execution_count": 10,
   "metadata": {},
   "outputs": [
    {
     "name": "stdout",
     "output_type": "stream",
     "text": [
      "Actor(\n",
      "  (fc1): Linear(in_features=33, out_features=256, bias=True)\n",
      "  (fc2): Linear(in_features=256, out_features=4, bias=True)\n",
      ")\n",
      "Critic(\n",
      "  (fcs1): Linear(in_features=33, out_features=256, bias=True)\n",
      "  (fc2): Linear(in_features=260, out_features=256, bias=True)\n",
      "  (fc3): Linear(in_features=256, out_features=128, bias=True)\n",
      "  (fc4): Linear(in_features=128, out_features=1, bias=True)\n",
      ")\n"
     ]
    }
   ],
   "source": [
    "print(agent.actor_target)\n",
    "print(agent.critic_target)"
   ]
  },
  {
   "cell_type": "markdown",
   "metadata": {},
   "source": [
    "### 4.6 Close the environment"
   ]
  },
  {
   "cell_type": "code",
   "execution_count": 11,
   "metadata": {},
   "outputs": [],
   "source": [
    "env.close()"
   ]
  },
  {
   "cell_type": "code",
   "execution_count": null,
   "metadata": {},
   "outputs": [],
   "source": []
  }
 ],
 "metadata": {
  "kernelspec": {
   "display_name": "Python 3",
   "language": "python",
   "name": "python3"
  },
  "language_info": {
   "codemirror_mode": {
    "name": "ipython",
    "version": 3
   },
   "file_extension": ".py",
   "mimetype": "text/x-python",
   "name": "python",
   "nbconvert_exporter": "python",
   "pygments_lexer": "ipython3",
   "version": "3.6.3"
  }
 },
 "nbformat": 4,
 "nbformat_minor": 2
}
